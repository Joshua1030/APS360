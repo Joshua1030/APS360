{
  "cells": [
    {
      "cell_type": "markdown",
      "metadata": {
        "id": "view-in-github",
        "colab_type": "text"
      },
      "source": [
        "<a href=\"https://colab.research.google.com/github/Joshua1030/APS360/blob/main/APS360_Project_Team17.ipynb\" target=\"_parent\"><img src=\"https://colab.research.google.com/assets/colab-badge.svg\" alt=\"Open In Colab\"/></a>"
      ]
    },
    {
      "cell_type": "markdown",
      "metadata": {
        "id": "uRviTTfo6dGs"
      },
      "source": [
        "Data Processing"
      ]
    },
    {
      "cell_type": "code",
      "execution_count": null,
      "metadata": {
        "id": "mNdd8j32GJCR"
      },
      "outputs": [],
      "source": [
        "\n",
        "asd"
      ]
    },
    {
      "cell_type": "markdown",
      "metadata": {
        "id": "HIPIRyYg6dGu"
      },
      "source": [
        "Baseline Model"
      ]
    },
    {
      "cell_type": "code",
      "execution_count": null,
      "metadata": {
        "id": "i1M6Yby_6dGu"
      },
      "outputs": [],
      "source": [
        "asdas"
      ]
    },
    {
      "cell_type": "markdown",
      "metadata": {
        "id": "r1x__gLD6dGv"
      },
      "source": [
        "Primary Model"
      ]
    },
    {
      "cell_type": "code",
      "execution_count": null,
      "metadata": {
        "id": "3RCrOHDB6dGv"
      },
      "outputs": [],
      "source": [
        "print(1)"
      ]
    }
  ],
  "metadata": {
    "colab": {
      "collapsed_sections": [],
      "provenance": [],
      "include_colab_link": true
    },
    "kernelspec": {
      "display_name": "Python 3",
      "name": "python3"
    },
    "language_info": {
      "name": "python"
    }
  },
  "nbformat": 4,
  "nbformat_minor": 0
}