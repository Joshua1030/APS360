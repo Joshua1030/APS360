{
 "cells": [
  {
   "cell_type": "markdown",
   "metadata": {},
   "source": [
    "This code was written "
   ]
  },
  {
   "cell_type": "markdown",
   "metadata": {},
   "source": [
    "Since the dataset contains about 10,000 images over 6 categories, it will take very long to train our model. Our team decide to randomly choose 500 images for training, 100 images for validation, and 100 images for testing, from each category. "
   ]
  },
  {
   "cell_type": "code",
   "execution_count": 46,
   "metadata": {},
   "outputs": [],
   "source": [
    "import os, random\n",
    "import shutil\n",
    "\n",
    "source_dir = \"E:/UofT/APS360/data/processed_data/data_train\"\n",
    "dest_train_dir = \"E:/UofT/APS360/data/processed_data/smaller_data_sets/APS360_Data_Small_Train\"\n",
    "dest_val_dir = \"E:/UofT/APS360/data/processed_data/smaller_data_sets/APS360_Data_Small_Val\"\n",
    "dest_test_dir = \"E:/UofT/APS360/data/processed_data/smaller_data_sets/APS360_Data_Small_Test\""
   ]
  },
  {
   "cell_type": "code",
   "execution_count": 48,
   "metadata": {},
   "outputs": [],
   "source": [
    "#construct train set\n",
    "for i in range (500):\n",
    "    filename = random.choice(os.listdir(source_dir + \"/freshapples\"))\n",
    "    shutil.move(source_dir + \"/freshapples/\" + filename, dest_train_dir + \"/freshapples/\" + filename)\n",
    "\n",
    "    filename = random.choice(os.listdir(source_dir + \"/freshbanana\"))\n",
    "    shutil.move(source_dir + \"/freshbanana/\" + filename, dest_train_dir + \"/freshbanana/\" + filename)\n",
    "\n",
    "    filename = random.choice(os.listdir(source_dir + \"/freshoranges\"))\n",
    "    shutil.move(source_dir + \"/freshoranges/\" + filename, dest_train_dir + \"/freshoranges/\" + filename)\n",
    "\n",
    "    filename = random.choice(os.listdir(source_dir + \"/rottenapples\"))\n",
    "    shutil.move(source_dir + \"/rottenapples/\" + filename, dest_train_dir + \"/rottenapples/\" + filename)\n",
    "\n",
    "    filename = random.choice(os.listdir(source_dir + \"/rottenbanana\"))\n",
    "    shutil.move(source_dir + \"/rottenbanana/\" + filename, dest_train_dir + \"/rottenbanana/\" + filename)\n",
    "\n",
    "    filename = random.choice(os.listdir(source_dir + \"/rottenoranges\"))\n",
    "    shutil.move(source_dir + \"/rottenoranges/\" + filename, dest_train_dir + \"/rottenoranges/\" + filename)"
   ]
  },
  {
   "cell_type": "code",
   "execution_count": 45,
   "metadata": {},
   "outputs": [],
   "source": [
    "#construct val set\n",
    "for i in range (100):\n",
    "    filename = random.choice(os.listdir(source_dir + \"/freshapples\"))\n",
    "    shutil.move(source_dir + \"/freshapples/\" + filename, dest_val_dir + \"/freshapples/\" + filename)\n",
    "\n",
    "    filename = random.choice(os.listdir(source_dir + \"/freshbanana\"))\n",
    "    shutil.move(source_dir + \"/freshbanana/\" + filename, dest_val_dir + \"/freshbanana/\" + filename)\n",
    "\n",
    "    filename = random.choice(os.listdir(source_dir + \"/freshoranges\"))\n",
    "    shutil.move(source_dir + \"/freshoranges/\" + filename, dest_val_dir + \"/freshoranges/\" + filename)\n",
    "\n",
    "    filename = random.choice(os.listdir(source_dir + \"/rottenapples\"))\n",
    "    shutil.move(source_dir + \"/rottenapples/\" + filename, dest_val_dir + \"/rottenapples/\" + filename)\n",
    "\n",
    "    filename = random.choice(os.listdir(source_dir + \"/rottenbanana\"))\n",
    "    shutil.move(source_dir + \"/rottenbanana/\" + filename, dest_val_dir + \"/rottenbanana/\" + filename)\n",
    "\n",
    "    filename = random.choice(os.listdir(source_dir + \"/rottenoranges\"))\n",
    "    shutil.move(source_dir + \"/rottenoranges/\" + filename, dest_val_dir + \"/rottenoranges/\" + filename)"
   ]
  },
  {
   "cell_type": "code",
   "execution_count": null,
   "metadata": {},
   "outputs": [],
   "source": [
    "#construct test set\n",
    "for i in range (100):\n",
    "    filename = random.choice(os.listdir(source_dir + \"/freshapples\"))\n",
    "    shutil.move(source_dir + \"/freshapples/\" + filename, dest_test_dir + \"/freshapples/\" + filename)\n",
    "\n",
    "    filename = random.choice(os.listdir(source_dir + \"/freshbanana\"))\n",
    "    shutil.move(source_dir + \"/freshbanana/\" + filename, dest_test_dir + \"/freshbanana/\" + filename)\n",
    "\n",
    "    filename = random.choice(os.listdir(source_dir + \"/freshoranges\"))\n",
    "    shutil.move(source_dir + \"/freshoranges/\" + filename, dest_test_dir + \"/freshoranges/\" + filename)\n",
    "\n",
    "    filename = random.choice(os.listdir(source_dir + \"/rottenapples\"))\n",
    "    shutil.move(source_dir + \"/rottenapples/\" + filename, dest_test_dir + \"/rottenapples/\" + filename)\n",
    "\n",
    "    filename = random.choice(os.listdir(source_dir + \"/rottenbanana\"))\n",
    "    shutil.move(source_dir + \"/rottenbanana/\" + filename, dest_test_dir + \"/rottenbanana/\" + filename)\n",
    "\n",
    "    filename = random.choice(os.listdir(source_dir + \"/rottenoranges\"))\n",
    "    shutil.move(source_dir + \"/rottenoranges/\" + filename, dest_test_dir + \"/rottenoranges/\" + filename)"
   ]
  }
 ],
 "metadata": {
  "kernelspec": {
   "display_name": "Python 3.10.8 64-bit (microsoft store)",
   "language": "python",
   "name": "python3"
  },
  "language_info": {
   "codemirror_mode": {
    "name": "ipython",
    "version": 3
   },
   "file_extension": ".py",
   "mimetype": "text/x-python",
   "name": "python",
   "nbconvert_exporter": "python",
   "pygments_lexer": "ipython3",
   "version": "3.10.8"
  },
  "orig_nbformat": 4,
  "vscode": {
   "interpreter": {
    "hash": "34718bd5e5ff0ec954d04da905bd4ff4d511a0bfb6f9a1aa7037f750dbb407a4"
   }
  }
 },
 "nbformat": 4,
 "nbformat_minor": 2
}
